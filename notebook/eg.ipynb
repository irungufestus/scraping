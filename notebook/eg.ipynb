{
 "cells": [
  {
   "cell_type": "code",
   "execution_count": 7,
   "metadata": {},
   "outputs": [],
   "source": [
    "import requests\n",
    "from bs4 import BeautifulSoup\n",
    "import os\n",
    "from dataclasses import dataclass\n",
    "import pandas as pd\n"
   ]
  },
  {
   "cell_type": "code",
   "execution_count": 8,
   "metadata": {},
   "outputs": [],
   "source": []
  },
  {
   "cell_type": "code",
   "execution_count": 12,
   "metadata": {},
   "outputs": [],
   "source": [
    "book_list=[]\n",
    "for x in range(1,7):\n",
    "        url=f\"https://books.toscrape.com/catalogue/category/books_1/page-{x}.html\"\n",
    "        \n",
    "        r= requests.get(url)\n",
    "        soup = BeautifulSoup(r.text, 'html.parser')\n",
    "\n",
    "        articles =soup.find_all('article', class_='product_pod')\n",
    "\n",
    "        for item in articles:\n",
    "                image = item.find('img')\n",
    "                title = image.attrs['alt']\n",
    "                starTag =item.find('p')\n",
    "                star = starTag['class'][1]\n",
    "                price = item.find('p', class_='price_color').text\n",
    "                price = float(price[2:])\n",
    "                article={'Title':title,'Price': price,'Star Rating':star}\n",
    "                book_list.append(article)\n",
    "\n",
    "\n",
    "df = pd.DataFrame(book_list)\n",
    "\n",
    "df.to_csv('books.csv',index=False)\n",
    "\n"
   ]
  },
  {
   "cell_type": "code",
   "execution_count": 10,
   "metadata": {},
   "outputs": [],
   "source": [
    "@dataclass\n",
    "class product:\n",
    "    price:str\n",
    "    title:str\n",
    "    star_rating:str\n",
    "\n",
    "    \n",
    "    \n"
   ]
  },
  {
   "cell_type": "code",
   "execution_count": null,
   "metadata": {},
   "outputs": [],
   "source": []
  }
 ],
 "metadata": {
  "kernelspec": {
   "display_name": "scrap",
   "language": "python",
   "name": "python3"
  },
  "language_info": {
   "codemirror_mode": {
    "name": "ipython",
    "version": 3
   },
   "file_extension": ".py",
   "mimetype": "text/x-python",
   "name": "python",
   "nbconvert_exporter": "python",
   "pygments_lexer": "ipython3",
   "version": "3.10.9"
  },
  "orig_nbformat": 4
 },
 "nbformat": 4,
 "nbformat_minor": 2
}
